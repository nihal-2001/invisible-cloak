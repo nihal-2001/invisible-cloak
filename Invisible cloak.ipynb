{
 "cells": [
  {
   "cell_type": "code",
   "execution_count": 9,
   "id": "c3ff37cb",
   "metadata": {},
   "outputs": [],
   "source": [
    "import cv2\n",
    "import numpy as np\n",
    "cap =cv2.VideoCapture(0)\n",
    "back=0\n",
    "def nothing(x):\n",
    "    pass\n",
    "forcc=cv2.VideoWriter_fourcc(*'mp4v')\n",
    "vid=cv2.VideoWriter('invisible.mp4',forcc,20,(640,480))\n",
    "\n",
    "cv2.namedWindow('image')\n",
    "cv2.createTrackbar('lowh','image',0,255,nothing)\n",
    "cv2.createTrackbar('highh','image',255,255,nothing)\n",
    "cv2.createTrackbar('lows','image',0,255,nothing)\n",
    "cv2.createTrackbar('highs','image',255,255,nothing)\n",
    "cv2.createTrackbar('lowv','image',0,255,nothing)\n",
    "cv2.createTrackbar('highv','image',255,255,nothing)\n",
    "for i in range(20):\n",
    "    ret,back =cap.read()\n",
    "cv2.imshow(\"BACK\",back)\n",
    "while(1):\n",
    "    ret,frame =cap.read()\n",
    "    hsv =cv2.cvtColor(frame,cv2.COLOR_BGR2HSV)\n",
    "#     frame=cv.resize(frame,(720,720))\n",
    "#     lowh=cv2.getTrackbarPos('lowh','image')\n",
    "#     highh=cv2.getTrackbarPos('highh','image')\n",
    "#     lows=cv2.getTrackbarPos('lows','image')\n",
    "#     highs=cv2.getTrackbarPos('highs','image')\n",
    "#     lowv=cv2.getTrackbarPos('lowv','image')\n",
    "#     highv=cv2.getTrackbarPos('highv','image')\n",
    "#     lower_limit=np.array([lowh,lows,lowv])\n",
    "#     upper_limit=np.array([highh,highs,highv])\n",
    "    \n",
    "    lower_limit=np.array([162,112,78])\n",
    "    upper_limit=np.array([187,177,247])\n",
    "    \n",
    "#     lower_limit=np.array([171,102,0])\n",
    "#     upper_limit=np.array([183,186,255])\n",
    "\n",
    "\n",
    "\n",
    "\n",
    "    mask=cv2.inRange(hsv,lower_limit,upper_limit)\n",
    "    cv2.imshow('mask',mask)\n",
    "    cv2.imshow('image',hsv)\n",
    "    mask_inv =cv2.bitwise_not(mask)\n",
    "    res1=cv2.bitwise_and(frame,frame,mask=mask_inv)\n",
    "    res2=cv2.bitwise_and(back,back,mask=mask)\n",
    "    res=res1+res2\n",
    "    cv2.imshow(\"res1\",mask)\n",
    "#     cv2.imshow(\"res2\",res2)\n",
    "    cv2.imshow(\"invisibilty\",res)\n",
    "    vid.write(res)\n",
    "    if cv2.waitKey(10) & 0xFF==ord('q'):\n",
    "        break\n",
    "cap.release()\n",
    "vid.release()\n",
    "cv2.destroyAllWindows()"
   ]
  },
  {
   "cell_type": "code",
   "execution_count": null,
   "id": "fd817425",
   "metadata": {},
   "outputs": [],
   "source": []
  },
  {
   "cell_type": "code",
   "execution_count": null,
   "id": "6ca59963",
   "metadata": {},
   "outputs": [],
   "source": []
  }
 ],
 "metadata": {
  "kernelspec": {
   "display_name": "Python 3 (ipykernel)",
   "language": "python",
   "name": "python3"
  },
  "language_info": {
   "codemirror_mode": {
    "name": "ipython",
    "version": 3
   },
   "file_extension": ".py",
   "mimetype": "text/x-python",
   "name": "python",
   "nbconvert_exporter": "python",
   "pygments_lexer": "ipython3",
   "version": "3.9.7"
  }
 },
 "nbformat": 4,
 "nbformat_minor": 5
}
